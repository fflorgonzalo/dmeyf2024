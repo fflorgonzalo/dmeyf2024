{
 "cells": [
  {
   "cell_type": "code",
   "execution_count": 1,
   "id": "3df4c538-ef45-4472-af1d-cc577610105d",
   "metadata": {},
   "outputs": [
    {
     "name": "stderr",
     "output_type": "stream",
     "text": [
      "/home/reinonaspodcast/.venv/lib/python3.12/site-packages/tqdm/auto.py:21: TqdmWarning: IProgress not found. Please update jupyter and ipywidgets. See https://ipywidgets.readthedocs.io/en/stable/user_install.html\n",
      "  from .autonotebook import tqdm as notebook_tqdm\n"
     ]
    }
   ],
   "source": [
    "import pandas as pd\n",
    "from sklearn.tree import plot_tree\n",
    "import matplotlib.pyplot as plt\n",
    "import optuna\n",
    "import numpy as np\n",
    "from sklearn.ensemble import RandomForestClassifier\n",
    "from sklearn.impute import SimpleImputer\n",
    "import polars as pl"
   ]
  },
  {
   "cell_type": "code",
   "execution_count": 2,
   "id": "f39279db-7f9b-4a3e-9bb5-c74af7dc5332",
   "metadata": {},
   "outputs": [],
   "source": [
    "dataset = pl.read_csv(\n",
    "    \"competencia_02_normalizada_1.csv\",\n",
    "    infer_schema_length=10000,\n",
    "    schema_overrides={\"Master_madelantodolares\": pl.Float64}\n",
    ")"
   ]
  },
  {
   "cell_type": "code",
   "execution_count": 3,
   "id": "e2c78ffc-60c7-4267-a4d0-867f02bb77cf",
   "metadata": {},
   "outputs": [
    {
     "data": {
      "text/plain": [
       "(4735593, 145)"
      ]
     },
     "execution_count": 3,
     "metadata": {},
     "output_type": "execute_result"
    }
   ],
   "source": [
    "dataset.shape"
   ]
  },
  {
   "cell_type": "code",
   "execution_count": 4,
   "id": "b215574c-3a62-4de1-bbfd-bb04a27d7e01",
   "metadata": {},
   "outputs": [],
   "source": [
    "competencia_02 = dataset.to_pandas()"
   ]
  },
  {
   "cell_type": "markdown",
   "id": "20253b31-64f8-4be6-8b3b-20623f9fb0c5",
   "metadata": {},
   "source": [
    "### Feature Engineering"
   ]
  },
  {
   "cell_type": "code",
   "execution_count": 5,
   "id": "0bf7f349-a48c-4ad4-b6ae-f135078229e8",
   "metadata": {},
   "outputs": [],
   "source": [
    "important_features = ['mpayroll', 'mpasivos_margen', 'mcomisiones', 'mcuentas_saldo']"
   ]
  },
  {
   "cell_type": "code",
   "execution_count": 6,
   "id": "044d5475-3703-4f6a-b8d9-53d3b135531b",
   "metadata": {},
   "outputs": [],
   "source": [
    "competencia_02 = competencia_02.sort_values(by=['numero_de_cliente', 'foto_mes'])"
   ]
  },
  {
   "cell_type": "code",
   "execution_count": 7,
   "id": "288b04b2-6b28-4231-8b79-c6a239d3edbf",
   "metadata": {},
   "outputs": [],
   "source": [
    "for columna in important_features:\n",
    "    competencia_02[f'{columna}_acumulado'] = competencia_02.groupby('numero_de_cliente')[columna].cumsum()"
   ]
  },
  {
   "cell_type": "code",
   "execution_count": 8,
   "id": "c216809a-3d06-40e0-8a09-83945bb143a5",
   "metadata": {},
   "outputs": [
    {
     "data": {
      "text/html": [
       "<div>\n",
       "<style scoped>\n",
       "    .dataframe tbody tr th:only-of-type {\n",
       "        vertical-align: middle;\n",
       "    }\n",
       "\n",
       "    .dataframe tbody tr th {\n",
       "        vertical-align: top;\n",
       "    }\n",
       "\n",
       "    .dataframe thead th {\n",
       "        text-align: right;\n",
       "    }\n",
       "</style>\n",
       "<table border=\"1\" class=\"dataframe\">\n",
       "  <thead>\n",
       "    <tr style=\"text-align: right;\">\n",
       "      <th></th>\n",
       "      <th>numero_de_cliente</th>\n",
       "      <th>foto_mes</th>\n",
       "      <th>mpasivos_margen</th>\n",
       "      <th>mpasivos_margen_acumulado</th>\n",
       "    </tr>\n",
       "  </thead>\n",
       "  <tbody>\n",
       "    <tr>\n",
       "      <th>0</th>\n",
       "      <td>249221109</td>\n",
       "      <td>201901</td>\n",
       "      <td>67.683421</td>\n",
       "      <td>67.683421</td>\n",
       "    </tr>\n",
       "    <tr>\n",
       "      <th>124752</th>\n",
       "      <td>249221109</td>\n",
       "      <td>201902</td>\n",
       "      <td>53.145455</td>\n",
       "      <td>120.828876</td>\n",
       "    </tr>\n",
       "    <tr>\n",
       "      <th>250551</th>\n",
       "      <td>249221109</td>\n",
       "      <td>201903</td>\n",
       "      <td>57.412308</td>\n",
       "      <td>178.241183</td>\n",
       "    </tr>\n",
       "    <tr>\n",
       "      <th>376987</th>\n",
       "      <td>249221109</td>\n",
       "      <td>201904</td>\n",
       "      <td>78.893023</td>\n",
       "      <td>257.134207</td>\n",
       "    </tr>\n",
       "    <tr>\n",
       "      <th>503983</th>\n",
       "      <td>249221109</td>\n",
       "      <td>201905</td>\n",
       "      <td>0.000000</td>\n",
       "      <td>257.134207</td>\n",
       "    </tr>\n",
       "    <tr>\n",
       "      <th>...</th>\n",
       "      <td>...</td>\n",
       "      <td>...</td>\n",
       "      <td>...</td>\n",
       "      <td>...</td>\n",
       "    </tr>\n",
       "    <tr>\n",
       "      <th>4735588</th>\n",
       "      <td>1603590310</td>\n",
       "      <td>202108</td>\n",
       "      <td>0.000000</td>\n",
       "      <td>0.000000</td>\n",
       "    </tr>\n",
       "    <tr>\n",
       "      <th>4735589</th>\n",
       "      <td>1603703854</td>\n",
       "      <td>202108</td>\n",
       "      <td>0.009396</td>\n",
       "      <td>0.009396</td>\n",
       "    </tr>\n",
       "    <tr>\n",
       "      <th>4735590</th>\n",
       "      <td>1603775178</td>\n",
       "      <td>202108</td>\n",
       "      <td>0.357088</td>\n",
       "      <td>0.357088</td>\n",
       "    </tr>\n",
       "    <tr>\n",
       "      <th>4735591</th>\n",
       "      <td>1603805076</td>\n",
       "      <td>202108</td>\n",
       "      <td>0.000000</td>\n",
       "      <td>0.000000</td>\n",
       "    </tr>\n",
       "    <tr>\n",
       "      <th>4735592</th>\n",
       "      <td>1603866698</td>\n",
       "      <td>202108</td>\n",
       "      <td>0.000000</td>\n",
       "      <td>0.000000</td>\n",
       "    </tr>\n",
       "  </tbody>\n",
       "</table>\n",
       "<p>4735593 rows × 4 columns</p>\n",
       "</div>"
      ],
      "text/plain": [
       "         numero_de_cliente  foto_mes  mpasivos_margen  \\\n",
       "0                249221109    201901        67.683421   \n",
       "124752           249221109    201902        53.145455   \n",
       "250551           249221109    201903        57.412308   \n",
       "376987           249221109    201904        78.893023   \n",
       "503983           249221109    201905         0.000000   \n",
       "...                    ...       ...              ...   \n",
       "4735588         1603590310    202108         0.000000   \n",
       "4735589         1603703854    202108         0.009396   \n",
       "4735590         1603775178    202108         0.357088   \n",
       "4735591         1603805076    202108         0.000000   \n",
       "4735592         1603866698    202108         0.000000   \n",
       "\n",
       "         mpasivos_margen_acumulado  \n",
       "0                        67.683421  \n",
       "124752                  120.828876  \n",
       "250551                  178.241183  \n",
       "376987                  257.134207  \n",
       "503983                  257.134207  \n",
       "...                            ...  \n",
       "4735588                   0.000000  \n",
       "4735589                   0.009396  \n",
       "4735590                   0.357088  \n",
       "4735591                   0.000000  \n",
       "4735592                   0.000000  \n",
       "\n",
       "[4735593 rows x 4 columns]"
      ]
     },
     "execution_count": 8,
     "metadata": {},
     "output_type": "execute_result"
    }
   ],
   "source": [
    "competencia_02[['numero_de_cliente','foto_mes','mpasivos_margen', 'mpasivos_margen_acumulado']]"
   ]
  },
  {
   "cell_type": "markdown",
   "id": "870bf91d-ad0d-4589-80cb-dcbb9c2c23f7",
   "metadata": {},
   "source": [
    "### Optimización"
   ]
  },
  {
   "cell_type": "code",
   "execution_count": 9,
   "id": "2e3ab306-7743-4eb2-a792-96f4b9baf68d",
   "metadata": {},
   "outputs": [],
   "source": [
    "dataset = competencia_02.copy()"
   ]
  },
  {
   "cell_type": "code",
   "execution_count": 10,
   "id": "9330709d-f4c7-4ba8-93b0-2d6a74679bcb",
   "metadata": {},
   "outputs": [
    {
     "name": "stderr",
     "output_type": "stream",
     "text": [
      "/tmp/ipykernel_1978/494498299.py:1: UserWarning: Boolean Series key will be reindexed to match DataFrame index.\n",
      "  dtrain = dataset[dataset[\"foto_mes\"] <= 202106][dataset[\"foto_mes\"]>202012]\n"
     ]
    }
   ],
   "source": [
    "dtrain = dataset[dataset[\"foto_mes\"] <= 202106][dataset[\"foto_mes\"]>202012]\n",
    "dapply = dataset[dataset[\"foto_mes\"] == 202108]"
   ]
  },
  {
   "cell_type": "code",
   "execution_count": 11,
   "id": "7d7fec38-1bc1-421f-bd88-8845191a62b3",
   "metadata": {},
   "outputs": [
    {
     "data": {
      "text/plain": [
       "202101"
      ]
     },
     "execution_count": 11,
     "metadata": {},
     "output_type": "execute_result"
    }
   ],
   "source": [
    "min(dtrain['foto_mes'])"
   ]
  },
  {
   "cell_type": "code",
   "execution_count": 12,
   "id": "afb2e755-6306-4e6a-947a-110ecb5e775c",
   "metadata": {},
   "outputs": [
    {
     "data": {
      "text/plain": [
       "202106"
      ]
     },
     "execution_count": 12,
     "metadata": {},
     "output_type": "execute_result"
    }
   ],
   "source": [
    "max(dtrain['foto_mes'])"
   ]
  },
  {
   "cell_type": "code",
   "execution_count": 13,
   "id": "db87d32d-0f80-4af3-9a4f-9499cc1362c6",
   "metadata": {},
   "outputs": [],
   "source": [
    "X_train = dtrain.drop(columns=[\"clase_ternaria\", \"foto_mes\"])\n",
    "y_train = dtrain[\"clase_ternaria\"]"
   ]
  },
  {
   "cell_type": "code",
   "execution_count": 14,
   "id": "da05eccb-474c-4bda-b8b6-bc9e1ef114b3",
   "metadata": {},
   "outputs": [],
   "source": [
    "X_apply = dapply.drop(columns=[\"clase_ternaria\", \"foto_mes\"])"
   ]
  },
  {
   "cell_type": "code",
   "execution_count": 15,
   "id": "fc441497-24a8-4cb2-8289-2b6e0ac7efa1",
   "metadata": {},
   "outputs": [],
   "source": [
    "imp_mean = SimpleImputer(missing_values=np.nan, strategy='mean')\n",
    "X_train = imp_mean.fit_transform(X_train)\n",
    "X_apply = imp_mean.fit_transform(X_apply)"
   ]
  },
  {
   "cell_type": "code",
   "execution_count": 16,
   "id": "9240f573-2574-44d4-b85e-ebdec1e6198d",
   "metadata": {},
   "outputs": [],
   "source": [
    "ganancia_acierto = 273000\n",
    "costo_estimulo = 7000\n",
    "semillas = [1994]"
   ]
  },
  {
   "cell_type": "code",
   "execution_count": 17,
   "id": "19f20164-a8a6-402e-84d8-3e2c12741831",
   "metadata": {},
   "outputs": [],
   "source": [
    "def ganancia_prob(y_hat, y, prop=1, class_index=1, threshold=0.025):\n",
    "  @np.vectorize\n",
    "  def ganancia_row(predicted, actual, threshold=0.025):\n",
    "    return  (predicted >= threshold) * (ganancia_acierto if actual == \"BAJA+2\" else -costo_estimulo)\n",
    "\n",
    "  return ganancia_row(y_hat[:,class_index], y).sum() / prop"
   ]
  },
  {
   "cell_type": "code",
   "execution_count": 18,
   "id": "c46dec5b-df31-4348-ae25-d76d69f072a6",
   "metadata": {},
   "outputs": [
    {
     "name": "stderr",
     "output_type": "stream",
     "text": [
      "[I 2024-12-19 20:43:53,472] A new study created in memory with name: exp_206_random-forest-opt\n"
     ]
    }
   ],
   "source": [
    "def objective(trial):\n",
    "    max_depth = trial.suggest_int('max_depth', 2, 32)\n",
    "    min_samples_split = trial.suggest_int('min_samples_split', 2, 2000)\n",
    "    min_samples_leaf = trial.suggest_int('min_samples_leaf', 1, 200)\n",
    "    max_features = trial.suggest_float('max_features', 0.05, 0.7)\n",
    "\n",
    "    model = RandomForestClassifier(\n",
    "        n_estimators=100,\n",
    "        max_depth=max_depth,\n",
    "        min_samples_split=min_samples_split,\n",
    "        min_samples_leaf=min_samples_leaf,\n",
    "        max_features=max_features,\n",
    "        max_samples=0.7,\n",
    "        random_state=semillas[0],\n",
    "        n_jobs=-1,\n",
    "        oob_score=True\n",
    "    )\n",
    "\n",
    "    model.fit(X_train, y_train)\n",
    "\n",
    "    return ganancia_prob(model.oob_decision_function_, y_train)\n",
    "\n",
    "#storage_name = \"sqlite:///\" + db_path + \"optimization_tree.db\"\n",
    "study_name = \"exp_206_random-forest-opt\"\n",
    "\n",
    "study = optuna.create_study(\n",
    "    direction=\"maximize\",\n",
    "    study_name=study_name,\n",
    "    #storage=storage_name,\n",
    "    load_if_exists=True,\n",
    ")"
   ]
  },
  {
   "cell_type": "code",
   "execution_count": null,
   "id": "48b3409c-616f-4f3b-a0e4-47764dff8ef2",
   "metadata": {},
   "outputs": [],
   "source": [
    "#study.optimize(objective, n_trials=100)"
   ]
  },
  {
   "cell_type": "code",
   "execution_count": null,
   "id": "8fa1429d-d376-47c3-bc68-99b746a31729",
   "metadata": {},
   "outputs": [],
   "source": [
    "parameters: {'max_depth': 21, 'min_samples_split': 159, 'min_samples_leaf': 84, 'max_features': 0.3320855181470695}. Best is trial 76 with value: 624995000.0."
   ]
  },
  {
   "cell_type": "code",
   "execution_count": 20,
   "id": "940088a2-1caa-4a68-ba91-961e44ac86ed",
   "metadata": {},
   "outputs": [],
   "source": [
    "# Crear y entrenar el modelo de árbol de decisión\n",
    "modelo = RandomForestClassifier(\n",
    "        max_depth=21,\n",
    "        min_samples_split=159,\n",
    "        min_samples_leaf=84,\n",
    "        max_features=0.3320855181470695,\n",
    "        random_state=12000,\n",
    "        n_jobs=-1,\n",
    "        oob_score=True\n",
    "    )"
   ]
  },
  {
   "cell_type": "code",
   "execution_count": null,
   "id": "96d1e3d3-672f-498b-bec2-d46a9a711518",
   "metadata": {},
   "outputs": [],
   "source": [
    "modelo.fit(X_train, y_train)"
   ]
  },
  {
   "cell_type": "code",
   "execution_count": null,
   "id": "915fa42d-dc05-467d-b374-78d5baab4f9e",
   "metadata": {},
   "outputs": [],
   "source": [
    "imputer = SimpleImputer(strategy='mean')\n",
    "X_apply_imputed = imputer.fit_transform(X_apply)\n",
    "prediccion = modelo.predict_proba(X_apply_imputed)\n",
    "dapply[\"prob_baja2\"] = prediccion[:, list(modelo.classes_).index(\"BAJA+2\")]\n",
    "dapply[\"Predicted\"] = (dapply[\"prob_baja2\"] > 1/40).astype(int)\n",
    "dapply[dapply['Predicted']==1]\n",
    "dapply.shape\n",
    "dapply[[\"numero_de_cliente\", \"Predicted\"]].to_csv(\"K02_shap_modelo_base.csv\", index=False, sep=\",\")"
   ]
  },
  {
   "cell_type": "code",
   "execution_count": 19,
   "id": "64372fc6-32d7-465a-bd1e-d326094280d6",
   "metadata": {},
   "outputs": [],
   "source": [
    "semillas = [100]\n",
    "def correr_modelo_varias_semillas(semilla):\n",
    "    modelo = RandomForestClassifier(\n",
    "        max_depth=21,\n",
    "        min_samples_split=159,\n",
    "        min_samples_leaf=84,\n",
    "        max_features=0.3320855181470695,\n",
    "        random_state=semilla,\n",
    "        n_jobs=-1,\n",
    "        oob_score=True\n",
    "    )\n",
    "    modelo.fit(X_train, y_train)\n",
    "    imputer = SimpleImputer(strategy='mean')\n",
    "    X_apply_imputed = imputer.fit_transform(X_apply)\n",
    "    prediccion = modelo.predict_proba(X_apply_imputed)\n",
    "    dapply[\"prob_baja2\"] = prediccion[:, list(modelo.classes_).index(\"BAJA+2\")]\n",
    "    dapply[\"Predicted\"] = (dapply[\"prob_baja2\"] > 1/40).astype(int)\n",
    "    dapply[[\"numero_de_cliente\", \"Predicted\"]].to_csv(f\"K02_shap_modelo_base_replicabilidad_{semilla}.csv\", index=False, sep=\",\")\n",
    "    return"
   ]
  },
  {
   "cell_type": "code",
   "execution_count": 20,
   "id": "d5671e8d-2be4-466e-8b44-db3666276b4d",
   "metadata": {},
   "outputs": [
    {
     "name": "stderr",
     "output_type": "stream",
     "text": [
      "/tmp/ipykernel_1978/3889241609.py:16: SettingWithCopyWarning: \n",
      "A value is trying to be set on a copy of a slice from a DataFrame.\n",
      "Try using .loc[row_indexer,col_indexer] = value instead\n",
      "\n",
      "See the caveats in the documentation: https://pandas.pydata.org/pandas-docs/stable/user_guide/indexing.html#returning-a-view-versus-a-copy\n",
      "  dapply[\"prob_baja2\"] = prediccion[:, list(modelo.classes_).index(\"BAJA+2\")]\n",
      "/tmp/ipykernel_1978/3889241609.py:17: SettingWithCopyWarning: \n",
      "A value is trying to be set on a copy of a slice from a DataFrame.\n",
      "Try using .loc[row_indexer,col_indexer] = value instead\n",
      "\n",
      "See the caveats in the documentation: https://pandas.pydata.org/pandas-docs/stable/user_guide/indexing.html#returning-a-view-versus-a-copy\n",
      "  dapply[\"Predicted\"] = (dapply[\"prob_baja2\"] > 1/40).astype(int)\n"
     ]
    }
   ],
   "source": [
    "for semilla in semillas:\n",
    "    correr_modelo_varias_semillas(semilla)"
   ]
  },
  {
   "cell_type": "code",
   "execution_count": null,
   "id": "906eca15-147c-4c77-bd2c-56b9fc579d17",
   "metadata": {},
   "outputs": [],
   "source": []
  }
 ],
 "metadata": {
  "kernelspec": {
   "display_name": "Python 3 (ipykernel)",
   "language": "python",
   "name": "python3"
  },
  "language_info": {
   "codemirror_mode": {
    "name": "ipython",
    "version": 3
   },
   "file_extension": ".py",
   "mimetype": "text/x-python",
   "name": "python",
   "nbconvert_exporter": "python",
   "pygments_lexer": "ipython3",
   "version": "3.12.3"
  }
 },
 "nbformat": 4,
 "nbformat_minor": 5
}
